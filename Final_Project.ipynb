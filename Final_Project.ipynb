{
 "cells": [
  {
   "cell_type": "markdown",
   "metadata": {},
   "source": [
    "# Write up for Final Project - Modeling the Universe \n",
    "#### By Marcus Walton\n",
    "### Initial Project Proposal:\tAstronomy Teaching App\n",
    "    \n",
    "   For my final project, I will be creating a python script that ultimately simulates a two body system in orbit. What makes this different from what we’ve seen in this course is that it will completely rely upon user input to customize the makeup of the two bodies. In order to accomplish this, I will implement a graphical interface in order to collect the user input (GUI). At a minimum, this will include mass, composition/density, and the separation of the two bodies. The ultimate goal of this program is to convey a fundamental concept of astronomy to the student (user), while allowing them to manipulate different characteristics in order to emphasize the importance of each input modification.\n",
    "\n",
    "### Supplemental Proposal:\n",
    "\n",
    "   After speaking with the professor, the idea was refined a bit to still utilize the functional ability of having some kind of GUI, but to also contemplate a better learning concept for the lesson.  After much consideration and though, the idea of Tidal Forces on a two-body system became the new focus of effort.\n",
    "\n",
    "### Concept of Operations:\n",
    "\t\n",
    "   Because this course used the programming foundation of the Jupyter Notebooks framework, finding a compatible GUI interface was initially a bit challenging.  Most of the options involved incompatible kernel communications that Jupyter Notebooks could not negotiate with.  Thankfully, Jupyter Widgets (ipywidgets) was available as a suitable alternative.  Unfortunately, the documentation for this module is a bit to be desired.  But one will see in the project code that there was successful deployment for the intended user interaction.\n",
    "    Like any good project, once the brainstorming phase was over, an outline was created.  In addition to said outline was a proposed timeline that was conducive for project completion prior to the target due date.  Because the goal of this project was to develop an Astronomy Teaching App, the style and presentation of the subject matter is in the format of a lesson being taught in a classroom environment.  The overzealous nature of the proposal does not match the presentation of the code and app.  Because of the limitations of Jupyter Notebook GUIs, and quite frankly the available timeline,  the user experience is less than desired.  But even with the rudimentary nature of this app, the concepts and points of emphasis have been satisfied.  This is exemplified by the layout and order of the material presented.\n",
    "    With a wide variety of options for user interaction, it seemed as if the best approach would be to create some preset data that a user could select, along with an input medium in the event the user wanted to attempt data manipulation with their desired criteria.  This can be seen with the widget “accordion” feature where the user must either make a selection, or input data.  Equations were formatted with the HTML Math feature of the widgets module.  This required an in-depth analysis of suitable code formatting in order for the presentation of material to reflect accurately for the user.  Accompanying the “viewable” equations are python math operations in order to display proper calculations of the user’s selection, as well as emphasize the differences from each planetary pair.\n",
    "\n",
    "### Conclusion:\n",
    "   As alluded to earlier, in hindsight the proposal for this project was a bit overzealous.  This is mainly due to the author’s lack of python experience, and unfortunate time constrains.  Too much time was expended properly coding/formatting the graphical user interface of this script instead of focusing on the underlying mathematical & scientific components of the application’s topic.  But the selected topic is definitely a good one for any introductory astronomy class or aspiring scientist.  It happens to be one of the lesser known topics in entry-level astronomy and physics, but extremely relevant to the current arena of research in the Astrophysical field.  With the golden age of Astronomy upon us, vast optical improvements are helping us to see farther and farther into the deepest reaches of outer space.  Understanding the concept of Tidal Forces in a multi-body medium could stand reveal millions upon millions of exoplanets orbiting their parent stars- that signature “wobble” of the star being the telltale sign. If time wasn’t as much of a constraint, perhaps a good animation could’ve been created to emphasize how this looks for the user.  One was attempted, but unfortunately too many errors were encountered.  That being said, the overall result of this evolution not only provided education to the user, but it was also an incredibly enlightening experience for the author.  That duality ended up being a positive, unintended consequence that wasn’t realized until the completion of the project.\n",
    "\n",
    "\n",
    "****\n",
    "****\n",
    "****"
   ]
  },
  {
   "cell_type": "markdown",
   "metadata": {},
   "source": [
    "# -Astronomy Teaching App-\n",
    "## Today's lesson will be on Astrophysical Tidal Forces and their effects on other bodies.\n",
    "\n",
    "### Learning Objectives\n",
    "    - To develop an understanding of what Tidal Forces are.\n",
    "    - Using Python, we'll demonstrate examples of how planetary characteristics dictate Tidal behavior.\n",
    "    - Create an appreciation of the intricacies, and detail-oriented focus of Astronomy.\n",
    "    - To hopefully have a little fun!\n",
    "    \n",
    "### References/Works Cited\n",
    "    - Ryden, Barbara Sue. Foundations of Astrophysics. San Francisco: Pearson Addison-Wesley. 2010. \n",
    "    - NASA\n",
    "    - Wikipedia\n",
    "\n",
    "![](https://web2.ph.utexas.edu/~coker2/lunation2007.gif)"
   ]
  },
  {
   "cell_type": "code",
   "execution_count": 369,
   "metadata": {
    "collapsed": true
   },
   "outputs": [],
   "source": [
    "#Import required modules for Python examples\n",
    "\n",
    "from ipywidgets import widgets, Layout, Button, Box, FloatText, Textarea, Dropdown, Label, IntSlider  \n",
    "import numpy as np\n",
    "import matplotlib.pyplot as plt\n",
    "from matplotlib import animation, rc\n",
    "from IPython.display import HTML\n",
    "from IPython.display import display\n",
    "import time\n"
   ]
  },
  {
   "cell_type": "code",
   "execution_count": 370,
   "metadata": {
    "collapsed": true
   },
   "outputs": [],
   "source": [
    "#Set Constant Values\n",
    "\n",
    "sol_mass = 1.0 * 1.989e30 #kg\n",
    "sol_radius = 6.957e5 #kilometers\n",
    "earth_radius = 6371\n",
    "earth_mass = 5.974e24\n",
    "G = 6.67408e-11\n",
    "AU = 1.496e8 #kilometers\n",
    "secday = 60.0*60.0*24\n",
    "#a = AU*sep\n",
    "#sep = 1\n",
    "#Ma = sol_mass * inupt_mass_a\n",
    "#Mb = sol_mass * inupt_mass_b"
   ]
  },
  {
   "cell_type": "markdown",
   "metadata": {},
   "source": [
    "###  What are Tides?\n",
    "\n",
    "The easiest representation of the influence of Tidal factors here on Earth are that of the ocean tides.  We should all be familiar with what is known as \"High\" and \"Low\" tides.  These are obviously of large importance to seaborne operators.  A much lesser known fact is that the rigid rock of Earth is also slightly distorted from the effects of Tidal forces.  The biggest difference being that they're nearly impossible to see.  In this lesson, we will focus on the Tidal Forces between a planet and one of its satellite moons.  But we would be remiss if we didn't mention that the Earth is Tidally affected by both the Moon and the Sun.  These gravitational distortions are caused by the close proximity of other nearby spheres.  Throughout this lesson, we will cover a few important concepts that contribute to astronomical Tides.\n"
   ]
  },
  {
   "cell_type": "markdown",
   "metadata": {},
   "source": [
    "###  How do Tides effect celestial bodies?\n",
    "\n",
    "In addition to the gravitaional distortions mentioned above, Tidal Forces will also influence other factors as related to the affected spheres.  They inherently serve to accelerate or decelerate the orbit of a sphere.  In fact, they could lead to total distruction of one, if the right conditions exists.  Or in time, they could sling-shot a moon away from its planetary parent.  The mass, density, radii, and separation between two bodies greatly dictate the amount of Tidal disruption that exists.  One of the more important byproducts of determining the effects of these Tidal influences is known as the Roche Limit, also known as the Roche Radius.  We will discuss this a bit later.\n"
   ]
  },
  {
   "cell_type": "code",
   "execution_count": 384,
   "metadata": {},
   "outputs": [],
   "source": [
    "#This cell is dedicated to creating input widgets for use with the interactive portion of this lesson.\n",
    "\n",
    "text1 = widgets.Text(\n",
    "    value='0', \n",
    "    description='Den of Planet')\n",
    "#display(text1)\n",
    "\n",
    "text2 = widgets.Text(\n",
    "    value='0', \n",
    "    description='Den of Sat')\n",
    "#display(text2)\n",
    "\n",
    "text3 = widgets.Text(\n",
    "    value='0', \n",
    "    description='Mass of Planet')\n",
    "#display(text3)\n",
    "\n",
    "text4 = widgets.Text(\n",
    "    value='0', \n",
    "    description='Mass of Sat')\n",
    "#display(text4)\n",
    "\n",
    "text5 = widgets.Text(\n",
    "    value='0', \n",
    "    description='Rad of Planet')\n",
    "#display(text5)\n",
    "\n",
    "text6 = widgets.Text(\n",
    "    value='0', \n",
    "    description='Rad of Sat')\n",
    "#display(text6)\n",
    "\n",
    "text7 = widgets.Text(\n",
    "    value='0', \n",
    "    description='Separation')\n",
    "#display(text7)\n",
    "\n",
    "#def submit(sender):\n",
    "#    print(text1.value)\n",
    "#text1.on_submit(submit)\n",
    "\n",
    "drop1 = widgets.Dropdown( #This is the main selection medium for the user.\n",
    "    options=\n",
    "    {'Please Make a Selection': 0,'Earth & Moon': 1, 'Mars & Phobos': 2, 'Jupiter & Amalthea': 3, 'Saturn & Janus': 4},\n",
    "    value=0,\n",
    "    description='Pair:',\n",
    ")\n",
    "\n",
    "\n",
    "\n",
    "#tab_contents = [text1.description, text2.description, text3.description, text4.description, text5.description, text6.description]\n",
    "#children = [widgets.Text(description=name) for name in tab_contents] \n",
    "#tab = widgets.Tab()\n",
    "#tab.children = children\n",
    "#for i in range(len(children)):\n",
    "#       tab.set_title(i, str(i))\n",
    "        \n",
    "\n",
    "        \n",
    "        \n",
    "        \n",
    "form_item_layout = Layout(\n",
    "    display='flex',\n",
    "    flex_flow='row',\n",
    "    justify_content='space-between'\n",
    ")\n",
    "\n",
    "form_items = [\n",
    "    Box([text1, Label(value='Enter in kg/m^3')], layout=form_item_layout),\n",
    "    Box([text2, Label(value='Enter in kg/m^3')], layout=form_item_layout),\n",
    "    Box([text3, Label(value='Enter in kg')], layout=form_item_layout),\n",
    "    Box([text4, Label(value='Enter in kg')], layout=form_item_layout),\n",
    "    Box([text5, Label(value='Enter in km')], layout=form_item_layout),\n",
    "    Box([text6, Label(value='Enter in km')], layout=form_item_layout),\n",
    "    Box([text7, Label(value='Enter in km')], layout=form_item_layout)\n",
    "]\n",
    "\n",
    "form = Box(form_items, layout=Layout(\n",
    "    display='flex',\n",
    "    flex_flow='column',\n",
    "    border='solid 2px',\n",
    "    align_items='stretch',\n",
    "    width='50%'\n",
    "))\n",
    "\n",
    "accordion = widgets.Accordion(children=[drop1,form]) #The accordion was chosen for aesthetics & efficiency of layout \n",
    "accordion.set_title(0, 'Planet-Satellite Pair ---   (be sure to run the cell after selection)')\n",
    "accordion.set_title(1, 'Input your own metrics')"
   ]
  },
  {
   "cell_type": "markdown",
   "metadata": {},
   "source": [
    "## Please make a selection below.  \n",
    "This will the data that you choose to use for the demonstrations to be executed.  You may either select pre-determined data, or input parameters of your own.  Be sure to execute this cell after making a selection."
   ]
  },
  {
   "cell_type": "code",
   "execution_count": 386,
   "metadata": {},
   "outputs": [
    {
     "data": {
      "application/vnd.jupyter.widget-view+json": {
       "model_id": "c5915c282677416b89389a4ae4a2a482",
       "version_major": 2,
       "version_minor": 0
      },
      "text/plain": [
       "A Jupyter Widget"
      ]
     },
     "metadata": {},
     "output_type": "display_data"
    }
   ],
   "source": [
    "accordion #Used more for aesthetics, but highly functional for user input"
   ]
  },
  {
   "cell_type": "code",
   "execution_count": 387,
   "metadata": {},
   "outputs": [],
   "source": [
    "#Setting the preset values for the user selections, and if/else statements in order to identify the selected settings.\n",
    "\n",
    "sel = drop1.value\n",
    "\n",
    "if sel == 1:\n",
    "    DenPlanet = 5514.0 #kg m^-3\n",
    "    DenSat = 3344.0 #kg m^-3\n",
    "    MassPlanet = 1 * earth_mass #kg\n",
    "    MassSat = 7.4e22\n",
    "    RadiusPlanet = 1 * earth_radius #km\n",
    "    RadiusSat = 1737.0\n",
    "    sep = 385000.6\n",
    "    name = 'Earth & Moon'\n",
    "    \n",
    "elif sel == 2:\n",
    "    DenPlanet = 3933 #kg m^-3\n",
    "    DenSat = 1900.0\n",
    "    MassPlanet = 0.1074 * earth_mass #kg\n",
    "    MassSat = 10.6e15 #kg\n",
    "    RadiusPlanet = .532 * earth_radius\n",
    "    RadiusSat = 11.2667\n",
    "    sep = 9380.0\n",
    "    name = 'Mars & Phobos'\n",
    "    \n",
    "elif sel == 3:\n",
    "    DenPlanet = 1326.0 #kg cm^-3\n",
    "    DenSat = 3100.0\n",
    "    MassPlanet = 317.8 * earth_mass #kg\n",
    "    MassSat = 2.08e18\n",
    "    RadiusPlanet = 10.97 * earth_radius\n",
    "    RadiusSat = 83.5\n",
    "    sep = 422000.0\n",
    "    name = 'Jupiter & Amalthea'\n",
    "    \n",
    "elif sel == 4:\n",
    "    DenPlanet = 687 #kg m^-3\n",
    "    DenSat = 630.0\n",
    "    MassPlanet = 95.16 * earth_mass #kg\n",
    "    MassSat = 1.8975e18\n",
    "    RadiusPlanet = 9.14 * earth_radius\n",
    "    RadiusSat = 89.5\n",
    "    sep = 151472.0\n",
    "    name = 'Saturn & Janus'\n",
    "    \n",
    "elif sel != 1 or 2 or 3 or 4:\n",
    "    DenPlanet = float(text1.value)\n",
    "    DenSat = float(text2.value)\n",
    "    MassPlanet = float(text3.value)\n",
    "    MassSat = float(text4.value)\n",
    "    RadiusPlanet = float(text5.value)\n",
    "    RadiusSat = float(text6.value)\n",
    "    sep = float(text7.value)\n",
    "    name = 'Your notional Planet-Satellite'\n",
    "    "
   ]
  },
  {
   "cell_type": "code",
   "execution_count": 388,
   "metadata": {
    "collapsed": true
   },
   "outputs": [],
   "source": [
    "#def RK4(f,y,r,dr): \n",
    "#    k1=f(y,r)\n",
    "#    k2=f(y+k1*dr/2,r+dr/2)\n",
    "#    k3=f(y+k2*dr/2,r+dr/2)\n",
    "#    k4=f(y+k3*dr,r+dr)\n",
    "#    dy=(dr/6)*(k1+(2*k2)+(2*k3)+k4)\n",
    "#    return dy"
   ]
  },
  {
   "cell_type": "markdown",
   "metadata": {},
   "source": [
    "# There are multiple effects on a two-body system\n",
    "\n",
    "Here we will see a few of these factors:"
   ]
  },
  {
   "cell_type": "code",
   "execution_count": 389,
   "metadata": {},
   "outputs": [
    {
     "name": "stdout",
     "output_type": "stream",
     "text": [
      "\n",
      "Gravitaional Force between two bodies:\n"
     ]
    },
    {
     "data": {
      "application/vnd.jupyter.widget-view+json": {
       "model_id": "cdfa118f0784447f851931956dcaf5fe",
       "version_major": 2,
       "version_minor": 0
      },
      "text/plain": [
       "A Jupyter Widget"
      ]
     },
     "metadata": {},
     "output_type": "display_data"
    }
   ],
   "source": [
    "print()\n",
    "print('Gravitaional Force between two bodies:')\n",
    "widgets.HTMLMath(\n",
    "    value=r\"\\begin{align} F_{12}&=&\\frac{Gm_1m_2}{r^2} \\end{align} \\begin{align} \\\\ Where: \\\\\\\\ F_{12} &=& \\mbox{gravitational force between }m_1\\mbox{ and }m_2 \\\\ m_1 &=& \\mbox{mass of planet} \\\\ m_2 &=& \\mbox{mass of satellite} \\\\ G &=& \\mbox{gravitational constant }(6.673*10^{-11}m^3kg^{-1}s^{-2}) \\\\ r &=& \\mbox{distance between the centers of }m_1\\mbox{ and }m_2 \\\\\\end{align} </math\\]\",\n",
    "    placeholder='Gravitational Force',\n",
    "    \n",
    ")"
   ]
  },
  {
   "cell_type": "code",
   "execution_count": 390,
   "metadata": {},
   "outputs": [
    {
     "name": "stdout",
     "output_type": "stream",
     "text": [
      "\n",
      "\n",
      "The gravitational Force for Earth & Moon is:   1.99e+26\n",
      "This is in the direction from the planet to towards the satellite. As seen below:\n",
      "\n"
     ]
    }
   ],
   "source": [
    "grav_f = (G*MassPlanet*MassSat)/((sep)**2)\n",
    "print()\n",
    "print()\n",
    "print('The gravitational Force for', name, 'is:', format(grav_f, \"10.3\"))\n",
    "print('This is in the direction from the planet to towards the satellite. As seen below:')\n",
    "print()\n"
   ]
  },
  {
   "cell_type": "markdown",
   "metadata": {
    "collapsed": true
   },
   "source": [
    "![](https://upload.wikimedia.org/wikipedia/commons/0/08/Field_tidal.svg)"
   ]
  },
  {
   "cell_type": "markdown",
   "metadata": {},
   "source": [
    "## So how is the Tidal Force determined?\n",
    "\n",
    "We take the derivative of the Gravitaional Force Equation, then mulitply it by the distance between the two bodies, as seen here."
   ]
  },
  {
   "cell_type": "code",
   "execution_count": 391,
   "metadata": {},
   "outputs": [
    {
     "data": {
      "application/vnd.jupyter.widget-view+json": {
       "model_id": "21a2e23c34194c5889c7c916cfe5a7be",
       "version_major": 2,
       "version_minor": 0
      },
      "text/plain": [
       "A Jupyter Widget"
      ]
     },
     "metadata": {},
     "output_type": "display_data"
    }
   ],
   "source": [
    "widgets.HTMLMath(\n",
    "    value=r\"\\begin{align} F_{tidal} &=& \\frac{2Gm_1m_2}{r^3}d \\end{align}  \\begin{align} \\\\ Where: \\\\\\\\ F_{tidal} &=& \\mbox{gravitational force between }m_1\\mbox{ and }m_2 \\\\ m_1 &=& \\mbox{mass of planet} \\\\ m_2 &=& \\mbox{mass of satellite} \\\\G &=& \\mbox{gravitational constant }(6.673*10^{-11}m^{3}kg^{-1}s^{-2}) \\\\ d &=& \\mbox{distance between the centers of }m_1\\mbox{ and }m_2 \\\\ r &=& \\mbox{radius of satellite} \\\\ \\end{align} </math\\]\",\n",
    "    placeholder='Tidal Force',\n",
    "    \n",
    ")\n"
   ]
  },
  {
   "cell_type": "code",
   "execution_count": 392,
   "metadata": {},
   "outputs": [
    {
     "name": "stdout",
     "output_type": "stream",
     "text": [
      "\n",
      "\n",
      "The total Tidal Force of the Earth & Moon pair is   4.33e+33 Newtons\n",
      "\n",
      "\n"
     ]
    }
   ],
   "source": [
    "tide_1 = float(2*G*MassPlanet*MassSat*sep)/(RadiusSat**3)\n",
    "print()\n",
    "print()\n",
    "print('The total Tidal Force of the', name, 'pair is', format(tide_1, \"10.3\"), 'Newtons')\n",
    "print()\n",
    "print()\n"
   ]
  },
  {
   "cell_type": "markdown",
   "metadata": {},
   "source": [
    "## What is a barycenter?\n",
    "Even though his has nothing to do with Tidal Forces, it is largely important in the dynamics of orbiting bodies.  When two bodies orbit one another, there will be a center of mass, or a point between them where their masses “balance.”  You could envision this with a seesaw that has a big dog on one side, and a smaller cat on the other.  The heavier dog would have to be closer to the center of the seesaw in order for the metal plank to stay level with the ground.  By having the dog closer to the center (or pivot point), we’ve forced a balanced scenario with the smaller cat on the other end of the plank also being level with the ground.  With orbiting bodies, we put this center of mass, or barycenter in 3-demensional motion. As seen below:\n",
    "\n",
    "\n",
    "![](https://spaceplace.nasa.gov/barycenter/en/barycenter.en.png )"
   ]
  },
  {
   "cell_type": "markdown",
   "metadata": {},
   "source": [
    "## How is it determined?  \n",
    "The equation below provides us a disance from the center of the planet to the barycenter."
   ]
  },
  {
   "cell_type": "code",
   "execution_count": 393,
   "metadata": {},
   "outputs": [
    {
     "data": {
      "application/vnd.jupyter.widget-view+json": {
       "model_id": "da0c872cc8b24b78ad59c316aa5fdfc9",
       "version_major": 2,
       "version_minor": 0
      },
      "text/plain": [
       "A Jupyter Widget"
      ]
     },
     "metadata": {},
     "output_type": "display_data"
    }
   ],
   "source": [
    "widgets.HTMLMath(\n",
    "    value=r\"\\begin{align} r_{1}&=&\\frac{a}{1+\\frac{m_1}{m_2}} \\end{align} \\begin{align} \\\\ Where: \\\\\\\\ r_{1} &=& \\mbox{Distance from body 1 to the barycenter (km)} \\\\ m_1 &=& \\mbox{mass of body 1} \\\\ m_2 &=& \\mbox{mass of body 2} \\\\ a &=& \\mbox{Distance between the centers of the two bodies (km)} \\\\\\end{align} </math\\]\",\n",
    "    placeholder='Gravitational Force',\n",
    "    )"
   ]
  },
  {
   "cell_type": "code",
   "execution_count": 394,
   "metadata": {},
   "outputs": [
    {
     "name": "stdout",
     "output_type": "stream",
     "text": [
      "\n",
      "\n",
      "Distance from Center of Planet to the Barycenter is 4710.655\n",
      "Distance from Center of Satellite to the Barycenter is 380289.94451058196\n",
      "Lets make sure that our math adds up!...  4710.655 + 380289.945 = 385000.6\n",
      "The separation between the centers of Earth & Moon is: 385000.6 so we are good to go!!\n",
      "\n",
      "Because the Barycenter is 4710.655 km from the center of the planet, and the\n",
      "radius of the planet is 6371 km, we see that it is within the planet itself. So the \n",
      "precession of the planet will still be present, but minimal, as seen below:\n",
      "\n",
      "\n"
     ]
    }
   ],
   "source": [
    "bary_1 = float(sep/(1+(MassPlanet/MassSat)))\n",
    "bary_2 = float(sep - bary_1)\n",
    "print()\n",
    "print()\n",
    "print('Distance from Center of Planet to the Barycenter is', round(bary_1, 3))\n",
    "print('Distance from Center of Satellite to the Barycenter is', bary_2)\n",
    "print('Lets make sure that our math adds up!... ', round(bary_1, 3), '+', round(bary_2, 3), '=', bary_1+bary_2)\n",
    "print('The separation between the centers of', name, 'is:', sep, 'so we are good to go!!')\n",
    "print()\n",
    "if bary_1 < RadiusPlanet:\n",
    "    print('Because the Barycenter is', round(bary_1, 3), 'km from the center of the planet, and the')\n",
    "    print('radius of the planet is', round(RadiusPlanet, 3), 'km, we see that it is within the planet itself. So the ')\n",
    "    print('precession of the planet will still be present, but minimal, as seen below:')\n",
    "else:\n",
    "    print()\n",
    "print()\n",
    "print()"
   ]
  },
  {
   "cell_type": "markdown",
   "metadata": {},
   "source": [
    "![title](https://upload.wikimedia.org/wikipedia/commons/5/5a/Orbit4.gif)"
   ]
  },
  {
   "cell_type": "markdown",
   "metadata": {},
   "source": [
    "##  What about the Roche Limit?\n",
    "\n",
    "The Roche Limit is named after Édouard Roche, who was a French astronomer who first calculated this theoretical limit in 1848.  This limit is the closest distance from the center of a planetary parent that a satellite (moon) can pass by without being pulled apart by the planet's gravitational field.  In other words, the satellite's self-gravity will be overcome by the gravitational forces of the planetary parent which will lead to the fragmentation of said satellite.  If a satellite is of smaller size, its self-gravity may be able to resist the planet's gravitational field.  This can be seen in the example of Saturn's main rings, of which are within Saturn's Roche Limit of 140,000 km.\n"
   ]
  },
  {
   "cell_type": "code",
   "execution_count": 395,
   "metadata": {},
   "outputs": [
    {
     "data": {
      "application/vnd.jupyter.widget-view+json": {
       "model_id": "e22aa15a400248a5a9667bb05da5bac0",
       "version_major": 2,
       "version_minor": 0
      },
      "text/plain": [
       "A Jupyter Widget"
      ]
     },
     "metadata": {},
     "output_type": "display_data"
    }
   ],
   "source": [
    "widgets.HTMLMath(\n",
    "    value=r\"\\[R_{roche}\\approx2.44 * R_{primary}\\left(\\frac{&rho;_M}{&rho;_m}\\right)^{1/3} \\\\ Utilizing \\ Densities^*\\]\",\n",
    "    placeholder='Roche',\n",
    "    \n",
    ")"
   ]
  },
  {
   "cell_type": "markdown",
   "metadata": {},
   "source": [
    "R-primary is the radius of the planet. ρM and ρm are the densities of the planet and its satellite respectively."
   ]
  },
  {
   "cell_type": "code",
   "execution_count": 396,
   "metadata": {},
   "outputs": [
    {
     "name": "stdout",
     "output_type": "stream",
     "text": [
      "\n",
      "\n",
      "If the satellite happens to get closer than 18365 km from the planet,\n",
      "then it will become fragmented from its current form, and destroyed! Similar to this:\n",
      "\n",
      "\n"
     ]
    }
   ],
   "source": [
    "R_lim = ((2.44)*RadiusPlanet*(DenPlanet/DenSat)**(1/3))\n",
    "print()\n",
    "print()\n",
    "print('If the satellite happens to get closer than', int(R_lim), 'km from the planet,')\n",
    "print('then it will become fragmented from its current form, and destroyed! Similar to this:')\n",
    "print()\n",
    "print()"
   ]
  },
  {
   "cell_type": "markdown",
   "metadata": {},
   "source": [
    "![title](http://universesandbox.com/blog/wp-content/uploads/2016/06/Universe-Sandbox-²-Roche-Limit-Moon.jpg)"
   ]
  },
  {
   "cell_type": "code",
   "execution_count": null,
   "metadata": {
    "collapsed": true
   },
   "outputs": [],
   "source": []
  },
  {
   "cell_type": "code",
   "execution_count": 397,
   "metadata": {
    "collapsed": true
   },
   "outputs": [],
   "source": [
    "#Initial Conditions   If more time permitted, I would've perfected my code to include a simulation/animaiton \n",
    "# of a tidally influenced orbit between two bodies.\n",
    "\n",
    "xalist = []\n",
    "yalist = []\n",
    "\n",
    "xblist = []\n",
    "yblist = []\n",
    "\n",
    "#Sun\n",
    "xa = 0\n",
    "ya = 0\n",
    "za = 0\n",
    "\n",
    "xva = 0\n",
    "yva = 0\n",
    "zva = 0\n",
    "\n",
    "\n",
    "\n",
    "#___ Body\n",
    "xb = 0\n",
    "yb = 0\n",
    "zb = 0\n",
    "\n",
    "xvb = 0\n",
    "yvb = 0\n",
    "zvb = 0\n",
    "\n",
    "t = 0.0\n",
    "dt = 0.01*secday"
   ]
  },
  {
   "cell_type": "markdown",
   "metadata": {},
   "source": [
    "## Conclusion\n",
    "\n",
    "The intent of this app was to better educate the audience on the effects of Tidal Forces on a two-body system.  In reality, this condition is unrealistic.  Every celestial body is affected by more than one other body-  Espcially in every solar system throughout the Universe.  Even in our own Solar System, the Sun plays a role in the overall Tidal disruptions between orbiting planets and moons.  \n",
    "\n",
    "Hopefully you've enjoyed this presentation, and will be able to speak about this topic more intelligently in the future.  A thorough understanding of these concepts could serve the Extra-solar disciplines of Astronomy very well as our optics continue to develop and increase acuity over time.  Thank you for your participation and attention."
   ]
  }
 ],
 "metadata": {
  "kernelspec": {
   "display_name": "Python 3",
   "language": "python",
   "name": "python3"
  },
  "language_info": {
   "codemirror_mode": {
    "name": "ipython",
    "version": 3
   },
   "file_extension": ".py",
   "mimetype": "text/x-python",
   "name": "python",
   "nbconvert_exporter": "python",
   "pygments_lexer": "ipython3",
   "version": "3.6.3"
  }
 },
 "nbformat": 4,
 "nbformat_minor": 2
}
